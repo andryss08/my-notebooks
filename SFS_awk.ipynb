{
 "cells": [
  {
   "cell_type": "markdown",
   "id": "b173f97d-0fe9-443a-b75d-36850f999a12",
   "metadata": {},
   "source": [
    "<div class=\"alert alert-block alert-info\">\n",
    "\n",
    "# SFS Notebook 1 - mawk (Awk and Gawk)\n",
    "\n",
    "<b>Created for Edinburgh College 2023\n",
    "    by: </b> [michael.ferrie@edinburghcollege.ac.uk](mailto:michael.ferrie@edinburghcollege.ac.uk)"
   ]
  },
  {
   "cell_type": "markdown",
   "id": "bb4b9ed2-9208-4bb6-9e03-8d71a044bac8",
   "metadata": {},
   "source": [
    "![Coding Gif](https://cdn.githubraw.com/michaelferrie/labs/main/code-coding.gif)"
   ]
  },
  {
   "cell_type": "markdown",
   "id": "a58921b6-65d4-4304-8bc4-df420c498ff3",
   "metadata": {},
   "source": [
    "# Introduction\n",
    "\n",
    "Some people might tell you that you don't need to learn awk, despite the naysayers I have used it many times and not many people are any good at it, but not you - you will not be one of those sad people who ask me to write their awks, you can write your own.\n",
    "\n",
    "Imagine you have a 2 million line log file and you very quickly need to get out the 3rd and 85th column and you only want lines that end with x and start with y, and you have 10 seconds to achieve this when you are SSH'd into a remote server. That's where awk will be most useful. While other folk are speaking about how they can split the file up to open it in Excel, you'll be off for lunch.\n",
    "\n",
    "So, what actually is [awk](https://en.wikipedia.org/wiki/AWK), it was invented by three computer scientists and each of their last names are a, w, and k. The original awk was written for the Unix operating system but we will be using the Debian implementation of awk, named mawk. A Debian package maintainer wrote a faster and more efficient version of awk and he was called Mike, that's why it's called mawk.\n",
    "\n",
    "This lab provides an introduction to the programming language awk. There is an advanced tutorial [here](https://www.grymoire.com/Unix/Awk.html) if you would like to learn more about. I would also recommend the [O'Reilly Sed & Awk](https://www.amazon.co.uk/sed-awk-Pocket-Reference-OReilly/dp/0596003528) pocket reference book.\n",
    "\n",
    "# Structure of awk programs\n",
    "\n",
    "Awk programs often follow the structure:\n",
    "\n",
    "The program starts with a begin block, this is the start of the program using the keyword `BEGIN`:\n",
    "\n",
    "BEGIN {commands}\n",
    "\n",
    "Then there is usually some kind of pattern which is between /pattern/\n",
    "\n",
    "Then there is an `END` block\n",
    "\n",
    "In order to demonstrate awk in action in Jupyter, click File > New > Text File, copy with CTRL+C then paste the following into the text file. Click File > Save Text As, and save it as pings.txt, this is just a basic file we can use to practice. We have some log data on pings:\n",
    "\n",
    "```\n",
    "1)  R1   S1  11\n",
    "2)  R1   S2  20\n",
    "3)  S3   S4  14\n",
    "4)  D1   D2  16\n",
    "5)  A5   S1  26\n",
    "```"
   ]
  },
  {
   "cell_type": "markdown",
   "id": "79aa8ca3-63f5-41e7-bb67-3c8b936e4b1e",
   "metadata": {},
   "source": [
    "# Getting into awk with Print\n",
    "\n",
    "First lets add some headers to the file and display the output, I will break this command down:\n",
    "\n",
    "1. First we say awk - to tell the computer we are using awk - _obviously_ ;)\n",
    "2. Then open quotes to start the program and write `BEGIN`\n",
    "3. Next we start the pattern with {}, and say print with `printf`\n",
    "4. Double quotes then say what we want to print adding `\\n` to the end to add a new line\n",
    "5. Close } and then add `{print}` to the end and close quotes, then add the filename"
   ]
  },
  {
   "cell_type": "code",
   "execution_count": 1,
   "id": "c8ea9d36-f9a2-4504-9f9c-c760c79a1018",
   "metadata": {},
   "outputs": [
    {
     "name": "stdout",
     "output_type": "stream",
     "text": [
      "Ping Source Dest Time-ms \n",
      "awk: cannot open pings.txt (No such file or directory)\n"
     ]
    },
    {
     "ename": "",
     "evalue": "2",
     "output_type": "error",
     "traceback": []
    }
   ],
   "source": [
    "awk 'BEGIN{printf \"Ping Source Dest Time-ms \\n\"} {print}' pings.txt"
   ]
  },
  {
   "cell_type": "markdown",
   "id": "9daa9516-c68e-4800-86bc-17bb16aaaf0b",
   "metadata": {},
   "source": [
    "Let's say we only want column 1, we can tell awk to just print that with `$1`, column 2 with `$2`, column 3 with `$3` and so on."
   ]
  },
  {
   "cell_type": "code",
   "execution_count": null,
   "id": "12dcd1a2-adfc-4359-98ef-99613ef697b3",
   "metadata": {},
   "outputs": [],
   "source": [
    "awk '{print $1}' pings.txt"
   ]
  },
  {
   "cell_type": "markdown",
   "id": "78ebcc39-34bf-4854-b179-00222920006c",
   "metadata": {},
   "source": [
    "# Built-in functions"
   ]
  },
  {
   "cell_type": "markdown",
   "id": "f3bfa3e4-020b-450c-ab80-2faa53c2b06f",
   "metadata": {},
   "source": [
    "Here are some useful built-in functions, we can specify a variable to use in the program with `-v`:"
   ]
  },
  {
   "cell_type": "code",
   "execution_count": null,
   "id": "2bfc1fda-c03d-49c6-b1af-fada7f4be45c",
   "metadata": {},
   "outputs": [],
   "source": [
    "awk -v my_var=5 'BEGIN { print my_var }'"
   ]
  },
  {
   "cell_type": "markdown",
   "id": "711ab553-399d-4091-99f9-5594c0655dc7",
   "metadata": {},
   "source": [
    "If we want more than one variable, we need to assign them in the program ; delimited:"
   ]
  },
  {
   "cell_type": "code",
   "execution_count": null,
   "id": "ad0e4613-6824-4579-8ca4-2be050254283",
   "metadata": {},
   "outputs": [],
   "source": [
    "awk 'BEGIN { l = 50; b = 20; print \"Area = (length * breadth) = \", (l * b) }'"
   ]
  },
  {
   "cell_type": "markdown",
   "id": "cea0fa51-1eed-439e-80cf-b0299d5db809",
   "metadata": {},
   "source": [
    "We can use awk as a calculator, here is how to square a number with `sqrt()`:"
   ]
  },
  {
   "cell_type": "code",
   "execution_count": null,
   "id": "5893eb3a-cf1b-4201-8d12-cdf74a6c6843",
   "metadata": {},
   "outputs": [],
   "source": [
    "awk -v my_int=25 'BEGIN { print sqrt(my_int) }'"
   ]
  },
  {
   "cell_type": "markdown",
   "id": "5f49ca03-4bd4-4722-9b75-75b8cb85a680",
   "metadata": {},
   "source": [
    "If we want to put parts on a new line to improve readability, we should keep code at around 70 characters or less per line due to terminal limitations we can say newline with `\\`. Awk doesnt care about tabs/spaces like python so you can use tabs to indent it."
   ]
  },
  {
   "cell_type": "code",
   "execution_count": null,
   "id": "b910b805-07fe-4478-b99d-b23afb24a90a",
   "metadata": {},
   "outputs": [],
   "source": [
    "awk 'BEGIN { l = 50; b = 20; \\\n",
    "        print \\\n",
    "            \"Area = (length * breadth) = \", (l * b) \\\n",
    "            }'"
   ]
  },
  {
   "cell_type": "markdown",
   "id": "8cfcb8d1-b416-4cd1-972c-0dc3b3aad78f",
   "metadata": {},
   "source": [
    "Here is how to write a loop in awk, first assign a variable, then use the keyword `do`, then print the variable, then increment with `i+=1` when use the `while()` function to specify a condition:"
   ]
  },
  {
   "cell_type": "code",
   "execution_count": null,
   "id": "60fedc02-6e63-4e5e-ba64-67ac4777bfee",
   "metadata": {},
   "outputs": [],
   "source": [
    "awk 'BEGIN { i = 0; \\\n",
    "        do { print i; i+=1; } while(i < 5) \\\n",
    "     }'"
   ]
  },
  {
   "cell_type": "markdown",
   "id": "4ede5b2e-a83e-44a2-ac5b-cfedeadb58b8",
   "metadata": {},
   "source": [
    "# Conditionals \n",
    "\n",
    "Conditionals are defined inside `()` each separate predicate and alternative with `;` separated by {, look at this example:"
   ]
  },
  {
   "cell_type": "code",
   "execution_count": null,
   "id": "e502b4f6-39e4-4fde-b15c-043bb7e9cc3f",
   "metadata": {},
   "outputs": [],
   "source": [
    "awk 'BEGIN { \\\n",
    "\n",
    "a = 34; print \"Number is \" a\n",
    "\n",
    "if (a > 35)\n",
    "    print a \" is greater than 35\";\n",
    "else\n",
    "    print a \" is less than 35\";\n",
    "}'"
   ]
  },
  {
   "cell_type": "markdown",
   "id": "3d7eca1b-b589-4a39-81ec-06383a2fd4ac",
   "metadata": {},
   "source": [
    "Arguably, this is easier than python as you don't need to worry about spaces or indentation. Here is a more elaborate example, I'll add in comments to explain inside the program:"
   ]
  },
  {
   "cell_type": "code",
   "execution_count": null,
   "id": "fcaf43a3-2e22-474d-98ed-ac144ae1ba09",
   "metadata": {},
   "outputs": [],
   "source": [
    "# start program and define variables\n",
    "awk 'BEGIN { \\\n",
    "score1 = 5 ; score2 = 6 ; score3 = 4 ; \\\n",
    "\n",
    "# print totals and calculate average\n",
    "print \"Total of scores is \" score1 + score2 + score3 \\\n",
    "     \"\\nAverage score is \" (score1+score2+score3) / 3\n",
    "\n",
    "# create conditional, check if more than 35\n",
    "if (score1+score2+score3 >= 35)\n",
    "    print \"Total scores greater than 35\";\n",
    "else\n",
    "    print \"Total scores less than 35\";\n",
    "}'"
   ]
  },
  {
   "cell_type": "markdown",
   "id": "3ed6e815-a6af-46b1-a042-d9f60723932f",
   "metadata": {},
   "source": [
    "## Download CSV\n",
    "For this lab I have a CSV file of different countries, we can use this to perform some tasks with awk download the file and open it to look at the layout."
   ]
  },
  {
   "cell_type": "code",
   "execution_count": null,
   "id": "ca15051a-5a1a-4e55-85e9-0e101edad658",
   "metadata": {},
   "outputs": [],
   "source": [
    "wget  https://raw.githubusercontent.com/michaelferrie/labs/main/wdicountry.csv"
   ]
  },
  {
   "cell_type": "markdown",
   "id": "a0d34429-9def-452f-92a0-19bccab70cdb",
   "metadata": {},
   "source": [
    "## Check awk version"
   ]
  },
  {
   "cell_type": "code",
   "execution_count": null,
   "id": "2b79a867-a29e-4244-8338-7785166f38e5",
   "metadata": {},
   "outputs": [],
   "source": [
    "awk -W version"
   ]
  },
  {
   "cell_type": "markdown",
   "id": "e3c75e12-dfb8-453d-87ca-5dab85c99ae4",
   "metadata": {},
   "source": [
    "# Printing\n",
    "\n",
    "Print the full file with awk"
   ]
  },
  {
   "cell_type": "code",
   "execution_count": null,
   "id": "9d6afd7e-8bb0-4a67-abde-24a47ea7028f",
   "metadata": {
    "tags": []
   },
   "outputs": [],
   "source": [
    "awk '{print}' wdicountry.csv"
   ]
  },
  {
   "cell_type": "markdown",
   "id": "9a3402a7-a214-444f-b12c-1a18c47c0acc",
   "metadata": {},
   "source": [
    "Print only the first column, the columns are numbered from $1..$n, and $0 represents the full file."
   ]
  },
  {
   "cell_type": "code",
   "execution_count": null,
   "id": "bf0142fa-67bb-445e-8443-6d4ce554c61c",
   "metadata": {
    "tags": []
   },
   "outputs": [],
   "source": [
    "awk '{print $1}' wdicountry.csv"
   ]
  },
  {
   "cell_type": "markdown",
   "id": "da81b0b5-be91-4f94-ad0b-78717463c15b",
   "metadata": {},
   "source": [
    "Notice the file prints more than one column, despite us telling it to print only $1, this is because awk uses space as the field separator by default, we need to define the field separator. Use -F then specify the field separator in quotes to tell awk how to delimit the columns."
   ]
  },
  {
   "cell_type": "markdown",
   "id": "d2d3e443-efa0-4dbd-bc47-fb03e4e19383",
   "metadata": {
    "jupyter": {
     "outputs_hidden": true
    },
    "tags": []
   },
   "source": [
    "awk -F ',' '{print $1}' wdicountry.csv"
   ]
  },
  {
   "cell_type": "code",
   "execution_count": null,
   "id": "13403d5f-2df6-4ae6-97e8-e57cb2094062",
   "metadata": {
    "tags": []
   },
   "outputs": [],
   "source": [
    "# print column 2\n",
    "awk -F ',' '{print $2}' wdicountry.csv"
   ]
  },
  {
   "cell_type": "code",
   "execution_count": null,
   "id": "6ed68a6a-3382-4d5d-b840-08ba9e897332",
   "metadata": {
    "tags": []
   },
   "outputs": [],
   "source": [
    "# print column 3\n",
    "awk -F ',' '{print $3}' wdicountry.csv"
   ]
  },
  {
   "cell_type": "markdown",
   "id": "7425011b-03b2-4d90-a403-816ae2cfd2ef",
   "metadata": {},
   "source": [
    "Lets swap two columns round, this is especially handy when we only care about two columns in a file."
   ]
  },
  {
   "cell_type": "code",
   "execution_count": null,
   "id": "a80b93b5-c096-4823-99a9-f61f749c0631",
   "metadata": {
    "tags": []
   },
   "outputs": [],
   "source": [
    "awk -F ',' '{print $2,$1}' wdicountry.csv"
   ]
  },
  {
   "cell_type": "markdown",
   "id": "4c638bad-b974-447b-9da0-ca6e4752cedf",
   "metadata": {},
   "source": [
    "## Regex with awk"
   ]
  },
  {
   "cell_type": "markdown",
   "id": "fa519c8a-d770-4601-8412-e1453ddfbaf1",
   "metadata": {},
   "source": [
    "Imagine we could tell awk to look for a pattern in a file and then return matches, this type of matching is called a regular expression, these are common in programming languages. To give only those countries that begin with A we need to specify a pattern, the ^ (caret) symbol indicates the start of the match, then the ~ (tilde) symbol indicates match."
   ]
  },
  {
   "cell_type": "code",
   "execution_count": null,
   "id": "24eb62c0-5f48-42d4-a075-babba3970964",
   "metadata": {},
   "outputs": [],
   "source": [
    "awk -F ',' '/^A/ {print $2}' wdicountry.csv"
   ]
  },
  {
   "cell_type": "code",
   "execution_count": null,
   "id": "113ade4d-f544-49fe-bc91-b7eb14a03bac",
   "metadata": {},
   "outputs": [],
   "source": [
    "awk -F ',' '/^A/ {print $2}' wdicountry.csv"
   ]
  },
  {
   "cell_type": "markdown",
   "id": "d2afde11-2349-4943-a108-323a32e11977",
   "metadata": {},
   "source": [
    "There is a problem here - this output is showing the United Arab Emirates as well as the other countries that start with A, try specifying the match to fix this. This is because we are scanning the first column, we can tell awk that we want it to check the second column by adding $2 ~ then the regexp."
   ]
  },
  {
   "cell_type": "code",
   "execution_count": null,
   "id": "6d507a74-eb7a-4165-b9cd-b48f24545e8a",
   "metadata": {},
   "outputs": [],
   "source": [
    "awk -F ',' '$2 ~ /^A/ {print $2}' wdicountry.csv"
   ]
  },
  {
   "cell_type": "markdown",
   "id": "22896e51-31a9-4590-82f3-97930c216c59",
   "metadata": {},
   "source": [
    "Inside the print statement you can specify multiple columns to print and in which order, can you find the column that has the currency used by each of the countries that start with A."
   ]
  },
  {
   "cell_type": "code",
   "execution_count": null,
   "id": "e5ec4816-da9a-4480-bd12-9910550b66a7",
   "metadata": {},
   "outputs": [],
   "source": [
    "awk -F ',' '$2 ~ /^A/ {print $2,$1}' wdicountry.csv"
   ]
  },
  {
   "cell_type": "markdown",
   "id": "bcb23ef4-1cdb-4443-b31c-0e6962910ca3",
   "metadata": {},
   "source": [
    "We can daisy-chain the matches using || as OR and && as AND, for example to print countries who are classified by the World Bank as upper middle income and begin with the letter A the following would work:"
   ]
  },
  {
   "cell_type": "code",
   "execution_count": null,
   "id": "9f757570-fe35-4cdf-a92c-59de971d46b2",
   "metadata": {},
   "outputs": [],
   "source": [
    "awk -F ',' '$2 ~ /^A/ && $9 ~ /Up/ {print $2,$9}' wdicountry.csv"
   ]
  },
  {
   "cell_type": "markdown",
   "id": "e5f87bec-ec3c-4460-9d34-dea9c2990c38",
   "metadata": {},
   "source": [
    "Now you are an expert in awk. Answer the following eight questions, these are useful notes to keep for future reference. Each question builds on the last so it is sensible to complete them in order. Have a look at the first row where the column names are shown:"
   ]
  },
  {
   "cell_type": "code",
   "execution_count": null,
   "id": "840d8faa-922f-40c0-ae2d-fe5563d4f324",
   "metadata": {},
   "outputs": [],
   "source": [
    "cat wdicountry.csv | head -1"
   ]
  },
  {
   "cell_type": "markdown",
   "id": "3c32b80c-7d71-40dd-9279-233f36cc69e9",
   "metadata": {},
   "source": [
    "We have a lot of information in the file about each of the countries, we can do some awk-ing, to get the information we want."
   ]
  },
  {
   "cell_type": "markdown",
   "id": "df16b53a-54d8-4c0c-902f-4655b85fad6e",
   "metadata": {},
   "source": [
    "# Questions"
   ]
  },
  {
   "cell_type": "markdown",
   "id": "a26b73ed-11ea-46b3-9b2e-9334352618d8",
   "metadata": {},
   "source": [
    "1. If `/^A/` matches any pattern that starts with A and `/a$/` matches any word that ends in a, can you find any country whose currency ends in o and starts with A?"
   ]
  },
  {
   "cell_type": "code",
   "execution_count": null,
   "id": "06e2fa7d",
   "metadata": {},
   "outputs": [],
   "source": [
    "awk -F ',' '$6 ~ /^A.*o$/ { print $2, $6 }' wdicountry.csv"
   ]
  },
  {
   "cell_type": "markdown",
   "id": "b780d3f7-3417-49c6-8e08-2f61cffe8143",
   "metadata": {},
   "source": [
    "2. When does the fiscal year end in Pakistan?"
   ]
  },
  {
   "cell_type": "code",
   "execution_count": null,
   "id": "a343fc8d",
   "metadata": {},
   "outputs": [],
   "source": [
    "awk -F ',''$2 ~ /Pakistan/ { print \"Fiscal year ends:\", $15 }' wdicountry.csv"
   ]
  },
  {
   "cell_type": "markdown",
   "id": "e5fb7410-4048-41df-a226-3310719a7250",
   "metadata": {},
   "source": [
    "3. What currency is used in Zambia?"
   ]
  },
  {
   "cell_type": "code",
   "execution_count": null,
   "id": "4414161b",
   "metadata": {},
   "outputs": [],
   "source": [
    "awk -F ',' '$2 ~ /Zambia/ { print \"Zambia uses:\", $6 }' wdicountry.csv"
   ]
  },
  {
   "cell_type": "markdown",
   "id": "dc3310b5-655b-41b8-9cd8-6424022b3b5c",
   "metadata": {},
   "source": [
    "4. How many countries have an official name that starts, ‘Republic of F’?"
   ]
  },
  {
   "cell_type": "code",
   "execution_count": null,
   "id": "76c3a332",
   "metadata": {},
   "outputs": [],
   "source": [
    "awk -F, '$4 ~ /^Republic of F/ { count++ } END { print count \" countries found\" }' wdicountry.csv"
   ]
  },
  {
   "cell_type": "markdown",
   "id": "ac319a74-9ee5-4054-8e48-734ead39d762",
   "metadata": {},
   "source": [
    "5. According to this CSV, how many countries are high income and start with the letter B?"
   ]
  },
  {
   "cell_type": "code",
   "execution_count": null,
   "id": "c93b9b39",
   "metadata": {},
   "outputs": [],
   "source": [
    "awk -F ',' '$2 ~ /^B/ && $9 == \"High income\" { count++ } END { print count \" high-income countries start with B\" }' wdicountry.csv"
   ]
  },
  {
   "cell_type": "markdown",
   "id": "17d55920-a920-4bfe-b788-308906e4ca0c",
   "metadata": {},
   "source": [
    "6. Which countries start with the letter K and are classified by the World Bank as upper middle income?"
   ]
  },
  {
   "cell_type": "code",
   "execution_count": null,
   "id": "98e719df",
   "metadata": {},
   "outputs": [],
   "source": [
    "awk -F, '$2 ~ /^K/ && $9 == \"Upper middle income\" { print $2 }' wdicountry.csv"
   ]
  },
  {
   "cell_type": "markdown",
   "id": "e5ba205e-2678-4c4e-a93e-40698d937600",
   "metadata": {},
   "source": [
    "7. Which countries use the Euro and start with the letter S"
   ]
  },
  {
   "cell_type": "code",
   "execution_count": null,
   "id": "056148a1-7a64-4087-847b-fd76da654421",
   "metadata": {},
   "outputs": [],
   "source": [
    "awk -F, '$2 ~ /^S/ && $6 == \"Euro\" { print $2 }' wdicountry.csv\n"
   ]
  },
  {
   "cell_type": "markdown",
   "id": "5af5e45a-ca15-484e-93ec-e50f16104a87",
   "metadata": {},
   "source": [
    "8. Write an awk statement that prints out the short name for Mexico, the long name, the currency and the 2 letter country abbreviation?"
   ]
  },
  {
   "cell_type": "code",
   "execution_count": null,
   "id": "823266d7-1d0a-48ff-9aa8-4e1a1b7f3c69",
   "metadata": {},
   "outputs": [],
   "source": [
    "awk -F, '$2 == \"Mexico\" { print \"Short name:\", $2, \"\\nLong name:\", $4, \"\\nCurrency:\", $6, \"\\n2-letter code:\", $5 }' wdicountry.csv"
   ]
  },
  {
   "cell_type": "markdown",
   "id": "8da853d1-f76d-403d-a9c2-0bfab3bed394",
   "metadata": {},
   "source": [
    "<div class=\"alert alert-block alert-warning\">\n",
    "<b>Challenge Questions:</b> Who needs friends when you have awk\n",
    "</div>"
   ]
  },
  {
   "cell_type": "markdown",
   "id": "e1468ca5-5435-4394-b33b-d7a6ec1a821b",
   "metadata": {},
   "source": [
    "9. Modify the awk script below so that it will only print out the cube root of the variable `b`?"
   ]
  },
  {
   "cell_type": "code",
   "execution_count": 2,
   "id": "35bdcb42",
   "metadata": {},
   "outputs": [
    {
     "name": "stdout",
     "output_type": "stream",
     "text": [
      "3\n"
     ]
    }
   ],
   "source": [
    "awk -v b=27 'BEGIN { print b^(1/3) }'"
   ]
  },
  {
   "cell_type": "markdown",
   "id": "4b8240a3-5abf-49b6-b08e-df3d9a8aaafb",
   "metadata": {},
   "source": [
    "10. Given the variable `x`, modify the awk script so that when I change the value of `x` to any whole positive integer, awk will print out the following messages. Either: `x is not divisible by 5` or `x is divisible by 5`?"
   ]
  },
  {
   "cell_type": "code",
   "execution_count": null,
   "id": "f5e65608",
   "metadata": {},
   "outputs": [],
   "source": [
    "awk -v x=25 'BEGIN { if (x % 5 == 0) print x \" is divisible by 5\"; else print x \" is not divisible by 5\" }'"
   ]
  },
  {
   "cell_type": "markdown",
   "id": "905c9788-4a6b-475b-9f59-7e7247dd9116",
   "metadata": {},
   "source": [
    "11. The following script has two numbers, write a program to check if they are coprime integers. \n",
    "\n",
    "We will start off easy with this one 14 and 25 only share a factor of 1 (and 14 and 25 respectively), so these are coprime.\n",
    "\n",
    "Write a program that prints `x and y are coprime` or `x and y are not coprime`. Then change x to 15, which shares a factor of 5 with 25 (so isn't coprime) to test your program?"
   ]
  },
  {
   "cell_type": "code",
   "execution_count": null,
   "id": "359e0dcd",
   "metadata": {},
   "outputs": [],
   "source": [
    "awk 'function gcd(a, b) { return b ? gcd(b, a % b) : a } BEGIN { x = 14; y = 25; if (gcd(x, y) == 1) print x \" and \" y \" are coprime\"; else print x \" and \" y \" are not coprime\" }'"
   ]
  },
  {
   "cell_type": "code",
   "execution_count": null,
   "id": "a75c874c-da13-4228-8052-d72d384398ef",
   "metadata": {},
   "outputs": [],
   "source": [
    "# add awk here\n",
    "awk 'BEGIN { x = 14; y = 25; print \"Integers = \" x \" and \" y }'"
   ]
  },
  {
   "cell_type": "markdown",
   "id": "0f7d739b-52ea-4b48-9643-83673978212c",
   "metadata": {},
   "source": [
    "12. Keep writing this great program, if x and y are coprime, we may as well calculate N and PHI, calculate N and PHI if x and y are coprime and print those out with the program? But, do not print them if x and y are not coprime?"
   ]
  },
  {
   "cell_type": "code",
   "execution_count": null,
   "id": "cd1655d0",
   "metadata": {},
   "outputs": [],
   "source": [
    "awk 'function gcd(a, b) { return b ? gcd(b, a % b) : a } \n",
    "BEGIN { \n",
    "    x = 14; y = 25;\n",
    "    if (gcd(x, y) == 1) { \n",
    "        N = x * y; \n",
    "        PHI = (x - 1) * (y - 1);\n",
    "        print x \" and \" y \" are coprime\";\n",
    "        print \"N =\", N, \"PHI =\", PHI;\n",
    "    } else {\n",
    "        print x \" and \" y \" are not coprime\";\n",
    "    }\n",
    "}'"
   ]
  }
 ],
 "metadata": {
  "kernelspec": {
   "display_name": "Bash",
   "language": "bash",
   "name": "bash"
  },
  "language_info": {
   "codemirror_mode": "shell",
   "file_extension": ".sh",
   "mimetype": "text/x-sh",
   "name": "bash"
  }
 },
 "nbformat": 4,
 "nbformat_minor": 5
}
